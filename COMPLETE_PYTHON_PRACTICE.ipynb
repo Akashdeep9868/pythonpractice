{
  "nbformat": 4,
  "nbformat_minor": 0,
  "metadata": {
    "colab": {
      "provenance": [],
      "authorship_tag": "ABX9TyO7XF4NyFh7DQD/tj9RhTYT",
      "include_colab_link": true
    },
    "kernelspec": {
      "name": "python3",
      "display_name": "Python 3"
    },
    "language_info": {
      "name": "python"
    }
  },
  "cells": [
    {
      "cell_type": "markdown",
      "metadata": {
        "id": "view-in-github",
        "colab_type": "text"
      },
      "source": [
        "<a href=\"https://colab.research.google.com/github/Akashdeep9868/pythonpractice/blob/main/COMPLETE_PYTHON_PRACTICE.ipynb\" target=\"_parent\"><img src=\"https://colab.research.google.com/assets/colab-badge.svg\" alt=\"Open In Colab\"/></a>"
      ]
    },
    {
      "cell_type": "code",
      "execution_count": null,
      "metadata": {
        "colab": {
          "base_uri": "https://localhost:8080/"
        },
        "id": "ERF3lX9OQDpW",
        "outputId": "852ef0ca-1aeb-470f-f3d8-770fded33573"
      },
      "outputs": [
        {
          "output_type": "stream",
          "name": "stdout",
          "text": [
            "True\n",
            "True\n",
            "True\n"
          ]
        }
      ],
      "source": [
        "s1=\"Python\"\n",
        "s2=\"python100\"\n",
        "s3=\"Python\"\n",
        "print(s1.isalnum())\n",
        "print(s2.isalnum())\n",
        "print(s3.isalnum())"
      ]
    },
    {
      "cell_type": "code",
      "source": [
        "s1=\"i got {n:.2f} in python.\"\n",
        "print(s1.format(n=68))"
      ],
      "metadata": {
        "colab": {
          "base_uri": "https://localhost:8080/"
        },
        "id": "mIL3U6OZQHaQ",
        "outputId": "286b04fa-b602-4f5a-98de-e0ca5713ad55"
      },
      "execution_count": null,
      "outputs": [
        {
          "output_type": "stream",
          "name": "stdout",
          "text": [
            "i got 68.00 in python.\n"
          ]
        }
      ]
    },
    {
      "cell_type": "code",
      "source": [
        "s1=\"I love python,python is one of the most used language in data science\"\n",
        "result=s1.index(\"python\")\n",
        "print(result)"
      ],
      "metadata": {
        "colab": {
          "base_uri": "https://localhost:8080/"
        },
        "id": "RXsKJHSvQHuM",
        "outputId": "121ab598-ff75-4df3-f668-86cb133a40d8"
      },
      "execution_count": null,
      "outputs": [
        {
          "output_type": "stream",
          "name": "stdout",
          "text": [
            "7\n"
          ]
        }
      ]
    },
    {
      "cell_type": "code",
      "source": [
        "s1=\"Python\"\n",
        "s2=\"python100\"\n",
        "s3=\"Python\"\n",
        "print(s1.isalpha())\n",
        "print(s2.isalpha())\n",
        "print(s3.isalpha())"
      ],
      "metadata": {
        "colab": {
          "base_uri": "https://localhost:8080/"
        },
        "id": "ZXuUWqr8QH-M",
        "outputId": "2f4d5052-55b6-419d-da1f-499dfbf6283f"
      },
      "execution_count": null,
      "outputs": [
        {
          "output_type": "stream",
          "name": "stdout",
          "text": [
            "True\n",
            "False\n",
            "True\n"
          ]
        }
      ]
    },
    {
      "cell_type": "code",
      "source": [
        "s1=\"Python\"\n",
        "s2=\"python100\"\n",
        "s3=\"1000\"\n",
        "print(s1.isdigit())\n",
        "print(s2.isdigit())\n",
        "print(s3.isdigit())"
      ],
      "metadata": {
        "colab": {
          "base_uri": "https://localhost:8080/"
        },
        "id": "qPcYpnchSH4K",
        "outputId": "7409961c-4e2c-47c0-8b34-8d386fb64fb1"
      },
      "execution_count": null,
      "outputs": [
        {
          "output_type": "stream",
          "name": "stdout",
          "text": [
            "False\n",
            "False\n",
            "True\n"
          ]
        }
      ]
    },
    {
      "cell_type": "code",
      "source": [
        "s1=\"Python\"\n",
        "s2=\"python100\"\n",
        "s3=\"1000\"\n",
        "print(s1.isnumeric())\n",
        "print(s2.isnumeric())\n",
        "print(s3.isnumeric())"
      ],
      "metadata": {
        "colab": {
          "base_uri": "https://localhost:8080/"
        },
        "id": "uo0HxD8PSIF9",
        "outputId": "7fce256b-fff2-4148-eb73-9018b8d23a5e"
      },
      "execution_count": null,
      "outputs": [
        {
          "output_type": "stream",
          "name": "stdout",
          "text": [
            "False\n",
            "False\n",
            "True\n"
          ]
        }
      ]
    },
    {
      "cell_type": "code",
      "source": [
        "s1=\"PYTHON\"\n",
        "print(s1.islower())"
      ],
      "metadata": {
        "colab": {
          "base_uri": "https://localhost:8080/"
        },
        "id": "4S6oXm9KSINE",
        "outputId": "28028bbd-902d-4c3b-b014-2792b1913f0b"
      },
      "execution_count": null,
      "outputs": [
        {
          "output_type": "stream",
          "name": "stdout",
          "text": [
            "False\n"
          ]
        }
      ]
    },
    {
      "cell_type": "code",
      "source": [
        "s1=\"PYTHON\"\n",
        "print(s1.lower())"
      ],
      "metadata": {
        "id": "1gtKxhi8SISH"
      },
      "execution_count": null,
      "outputs": []
    },
    {
      "cell_type": "code",
      "source": [
        "s1=\"Welcome\"\n",
        "print(s1.istitle())"
      ],
      "metadata": {
        "colab": {
          "base_uri": "https://localhost:8080/"
        },
        "id": "RyiH2y2vSIW3",
        "outputId": "b07ff1ce-79bf-413e-cd13-66992dd7d244"
      },
      "execution_count": null,
      "outputs": [
        {
          "output_type": "stream",
          "name": "stdout",
          "text": [
            "True\n"
          ]
        }
      ]
    },
    {
      "cell_type": "code",
      "source": [
        "s1=\"WWELCOMER\"\n",
        "print(s1.isupper())"
      ],
      "metadata": {
        "colab": {
          "base_uri": "https://localhost:8080/"
        },
        "id": "Vo3aRhrYSIbr",
        "outputId": "36cbab6f-d0f2-4078-91c1-a5e9f6822806"
      },
      "execution_count": null,
      "outputs": [
        {
          "output_type": "stream",
          "name": "stdout",
          "text": [
            "True\n"
          ]
        }
      ]
    },
    {
      "cell_type": "code",
      "source": [
        "list1=['Python','python100','1000']\n",
        "print(\";\".join(list1))\n"
      ],
      "metadata": {
        "colab": {
          "base_uri": "https://localhost:8080/"
        },
        "id": "d0S2T9rVSIgM",
        "outputId": "aad1cebb-deee-4f92-b14d-a0303b567892"
      },
      "execution_count": null,
      "outputs": [
        {
          "output_type": "stream",
          "name": "stdout",
          "text": [
            "Python;python100;1000\n"
          ]
        }
      ]
    },
    {
      "cell_type": "code",
      "source": [
        "s1=\"       Python\"\n",
        "result=s1.lstrip()\n",
        "print(result)"
      ],
      "metadata": {
        "colab": {
          "base_uri": "https://localhost:8080/"
        },
        "id": "olRZh2NvSIkh",
        "outputId": "33cead53-63b7-4267-9f24-eaa8ff48f8b3"
      },
      "execution_count": null,
      "outputs": [
        {
          "output_type": "stream",
          "name": "stdout",
          "text": [
            "Python\n"
          ]
        }
      ]
    },
    {
      "cell_type": "code",
      "source": [
        "s1=\"       Python        \"\n",
        "result=s1.rstrip()\n",
        "print(result)"
      ],
      "metadata": {
        "colab": {
          "base_uri": "https://localhost:8080/"
        },
        "id": "1BnUpPn7SIos",
        "outputId": "d7ddfb75-a173-438a-c2f1-271cdf77c96f"
      },
      "execution_count": null,
      "outputs": [
        {
          "output_type": "stream",
          "name": "stdout",
          "text": [
            "       Python\n"
          ]
        }
      ]
    },
    {
      "cell_type": "code",
      "source": [
        "a=5\n",
        "print(\"This is the value of a\", a)"
      ],
      "metadata": {
        "colab": {
          "base_uri": "https://localhost:8080/"
        },
        "id": "IMG-hDgAZ9KC",
        "outputId": "af0ceaee-e500-49ef-f756-b4ee67d0953c"
      },
      "execution_count": null,
      "outputs": [
        {
          "output_type": "stream",
          "name": "stdout",
          "text": [
            "This is the value of a 5\n"
          ]
        }
      ]
    },
    {
      "cell_type": "code",
      "source": [
        "name= input(\"Enter the name :\")\n",
        "print(name  )"
      ],
      "metadata": {
        "colab": {
          "base_uri": "https://localhost:8080/"
        },
        "id": "K_uVHBhsZ9ch",
        "outputId": "734e9089-9278-4061-e41a-568bbcc8ccbf"
      },
      "execution_count": null,
      "outputs": [
        {
          "output_type": "stream",
          "name": "stdout",
          "text": [
            "Enter the name :akash\n",
            "akash\n"
          ]
        }
      ]
    },
    {
      "cell_type": "code",
      "source": [
        "name=input(\"Enter the name\")\n",
        "print(\"Hello\", name)"
      ],
      "metadata": {
        "colab": {
          "base_uri": "https://localhost:8080/"
        },
        "id": "srGfVvHVZ9gb",
        "outputId": "67ca879f-881d-4435-da05-6ef6c9b1ee97"
      },
      "execution_count": null,
      "outputs": [
        {
          "output_type": "stream",
          "name": "stdout",
          "text": [
            "Enter the nameakash\n",
            "Hello akash\n"
          ]
        }
      ]
    },
    {
      "cell_type": "code",
      "source": [
        "num=int(input(\"Enter the number\"))\n",
        "print(type(num))\n",
        "sum=num+10\n",
        "print(sum)"
      ],
      "metadata": {
        "colab": {
          "base_uri": "https://localhost:8080/"
        },
        "id": "ffqWZ7BwZ9lW",
        "outputId": "3b9bfe02-a06d-4ee5-cbe4-a4fc39039c58"
      },
      "execution_count": null,
      "outputs": [
        {
          "output_type": "stream",
          "name": "stdout",
          "text": [
            "Enter the number6\n",
            "<class 'int'>\n",
            "16\n"
          ]
        }
      ]
    },
    {
      "cell_type": "code",
      "source": [
        "str1=\"Hello Learners\"\n",
        "a,b=str1.split(' ')\n",
        "print(a)\n",
        "print(b)\n",
        "\n"
      ],
      "metadata": {
        "colab": {
          "base_uri": "https://localhost:8080/"
        },
        "id": "Vc6rsFWwsoGG",
        "outputId": "b49fb9bc-c813-4fee-8e1f-60d3f54b425a"
      },
      "execution_count": null,
      "outputs": [
        {
          "output_type": "stream",
          "name": "stdout",
          "text": [
            "Hello\n",
            "Learners\n"
          ]
        }
      ]
    },
    {
      "cell_type": "code",
      "source": [
        "a,b,c=map(int,input(\"Enter three number\").split())\n",
        "print(a)\n",
        "print(b)\n",
        "print(c)"
      ],
      "metadata": {
        "colab": {
          "base_uri": "https://localhost:8080/"
        },
        "id": "2vAePqV7rgQn",
        "outputId": "bd18966d-70f9-4560-c590-d0326af6e0dd"
      },
      "execution_count": null,
      "outputs": [
        {
          "output_type": "stream",
          "name": "stdout",
          "text": [
            "Enter three number4 5 6 \n",
            "4\n",
            "5\n",
            "6\n"
          ]
        }
      ]
    },
    {
      "cell_type": "code",
      "source": [
        "x,y=input(\"Enter full name:\").split()\n",
        "print(\"First name:\",x)\n",
        "print(\"Last name:\",y)\n",
        "print(\"full name :\",x+\" \"+y)"
      ],
      "metadata": {
        "colab": {
          "base_uri": "https://localhost:8080/"
        },
        "id": "LLEvV-dDrgVe",
        "outputId": "797f11e8-5b30-460b-b2f4-0dec5a8625ac"
      },
      "execution_count": null,
      "outputs": [
        {
          "output_type": "stream",
          "name": "stdout",
          "text": [
            "Enter full name:akash deep\n",
            "First name: akash\n",
            "Last name: deep\n",
            "full name : akash deep\n"
          ]
        }
      ]
    },
    {
      "cell_type": "code",
      "source": [
        "print(\"# \"*10)"
      ],
      "metadata": {
        "colab": {
          "base_uri": "https://localhost:8080/"
        },
        "id": "uZq2lr75rgaZ",
        "outputId": "91fa99dd-63b5-4323-f17b-0666486c3717"
      },
      "execution_count": null,
      "outputs": [
        {
          "output_type": "stream",
          "name": "stdout",
          "text": [
            "##########\n"
          ]
        }
      ]
    },
    {
      "cell_type": "code",
      "source": [
        "name=input(\"Enter your name\")\n",
        "print(\"hello\",name,\"How are you\")\n",
        "\n"
      ],
      "metadata": {
        "colab": {
          "base_uri": "https://localhost:8080/"
        },
        "id": "5-Dixoi6rgfQ",
        "outputId": "15c84aca-eb29-43ee-f239-fb17ca9bcffe"
      },
      "execution_count": null,
      "outputs": [
        {
          "output_type": "stream",
          "name": "stdout",
          "text": [
            "Enter your nameakash\n",
            "hello akash How are you\n"
          ]
        }
      ]
    },
    {
      "cell_type": "code",
      "source": [
        "name=input(\"Enter your name\")\n",
        "print(f'hello {name} !How are you')"
      ],
      "metadata": {
        "colab": {
          "base_uri": "https://localhost:8080/"
        },
        "id": "hWQ96nxZrgkK",
        "outputId": "43f5332e-761c-4cf1-bb18-6eeb973c620c"
      },
      "execution_count": null,
      "outputs": [
        {
          "output_type": "stream",
          "name": "stdout",
          "text": [
            "Enter your namealasjd\n",
            "hello alasjd !How are you\n"
          ]
        }
      ]
    },
    {
      "cell_type": "code",
      "source": [
        "x=5\n",
        "y=6\n",
        "print(f'the value of x is {x}')\n",
        "print(f'the value of y is {y}')\n",
        "print('the value of x is {} and y is {}'.format(x,y))"
      ],
      "metadata": {
        "colab": {
          "base_uri": "https://localhost:8080/"
        },
        "id": "VDrHYukXrgo5",
        "outputId": "43b1be0c-5135-4694-f7a7-48d5e706e63f"
      },
      "execution_count": null,
      "outputs": [
        {
          "output_type": "stream",
          "name": "stdout",
          "text": [
            "the value of x is 5\n",
            "the value of y is 6\n",
            "the value of x is 5 and y is 6\n"
          ]
        }
      ]
    },
    {
      "cell_type": "code",
      "source": [
        "print ('I love {0} and {1}'.format('python','programming'))\n",
        "print ('I love {1} and {0}'.format('python','programming'))"
      ],
      "metadata": {
        "colab": {
          "base_uri": "https://localhost:8080/"
        },
        "id": "qnoh2OJ6rgte",
        "outputId": "5010e4a9-d9e9-4796-b7ed-07921edca384"
      },
      "execution_count": null,
      "outputs": [
        {
          "output_type": "stream",
          "name": "stdout",
          "text": [
            "I love python and programming\n",
            "I love programming and python\n"
          ]
        }
      ]
    },
    {
      "cell_type": "code",
      "source": [
        "print ('hello {name}, welcome to the couse {course}'.format(course='Python',name='Akash'))"
      ],
      "metadata": {
        "colab": {
          "base_uri": "https://localhost:8080/"
        },
        "id": "CiFBOw8Ergyf",
        "outputId": "a357cf32-8cde-4ecd-b7cb-bb1ae54e57ce"
      },
      "execution_count": null,
      "outputs": [
        {
          "output_type": "stream",
          "name": "stdout",
          "text": [
            "hello Akash, welcome to the couse Python\n"
          ]
        }
      ]
    },
    {
      "cell_type": "code",
      "source": [
        "num =int(input(\"Please enter number:\"))\n",
        "sum=num+100\n",
        "print(sum)"
      ],
      "metadata": {
        "colab": {
          "base_uri": "https://localhost:8080/"
        },
        "id": "aShXAOKxZ9pq",
        "outputId": "d4c4fc54-57fb-4706-a41c-a8e9249a959b"
      },
      "execution_count": null,
      "outputs": [
        {
          "output_type": "stream",
          "name": "stdout",
          "text": [
            "Please enter number:10\n",
            "110\n"
          ]
        }
      ]
    },
    {
      "cell_type": "code",
      "source": [
        "x=10.1928293\n",
        "print(\"the value of x is'%.2f\" %x)\n",
        "\n"
      ],
      "metadata": {
        "colab": {
          "base_uri": "https://localhost:8080/"
        },
        "id": "26dhBCIuZ9ti",
        "outputId": "d7427374-d88a-405b-ee71-caea77387603"
      },
      "execution_count": null,
      "outputs": [
        {
          "output_type": "stream",
          "name": "stdout",
          "text": [
            "the value of x is'10.19\n"
          ]
        }
      ]
    },
    {
      "cell_type": "code",
      "source": [
        "num1=5\n",
        "print(\"the result of that number is \",num1*5)"
      ],
      "metadata": {
        "colab": {
          "base_uri": "https://localhost:8080/"
        },
        "id": "sFTP8wlZygzk",
        "outputId": "2616bea1-c78f-468d-9007-853b84c4bebe"
      },
      "execution_count": null,
      "outputs": [
        {
          "output_type": "stream",
          "name": "stdout",
          "text": [
            "the result of that number is  25\n"
          ]
        }
      ]
    },
    {
      "cell_type": "code",
      "source": [
        "student= 1000\n",
        "print(\"this course is having \"+str(student)+\" student\")"
      ],
      "metadata": {
        "colab": {
          "base_uri": "https://localhost:8080/"
        },
        "id": "K9h9nXLgyg36",
        "outputId": "8ebe05c4-e27e-488f-e09d-a5c435184be3"
      },
      "execution_count": null,
      "outputs": [
        {
          "output_type": "stream",
          "name": "stdout",
          "text": [
            "this course is having 1000 student\n"
          ]
        }
      ]
    },
    {
      "cell_type": "markdown",
      "source": [
        "Maths library"
      ],
      "metadata": {
        "id": "cF6YZazCF55O"
      }
    },
    {
      "cell_type": "code",
      "source": [
        "import math\n",
        "print(math.e)\n"
      ],
      "metadata": {
        "id": "LzW9-zKbyg8s",
        "colab": {
          "base_uri": "https://localhost:8080/"
        },
        "outputId": "6fd74ed7-cd2f-4225-ea8d-368bd4653a99"
      },
      "execution_count": null,
      "outputs": [
        {
          "output_type": "stream",
          "name": "stdout",
          "text": [
            "2.718281828459045\n"
          ]
        }
      ]
    },
    {
      "cell_type": "code",
      "source": [
        "print(math.pi)"
      ],
      "metadata": {
        "id": "ttXjjc1GyhCy",
        "colab": {
          "base_uri": "https://localhost:8080/"
        },
        "outputId": "d3ec7237-c0bd-4e0e-e264-534e70c62f78"
      },
      "execution_count": null,
      "outputs": [
        {
          "output_type": "stream",
          "name": "stdout",
          "text": [
            "3.141592653589793\n"
          ]
        }
      ]
    },
    {
      "cell_type": "code",
      "source": [
        "r=2\n",
        "\n",
        "pi_value=math.pi\n",
        "\n",
        "print(pi_value*r*r)"
      ],
      "metadata": {
        "id": "NZYoQ638yhID",
        "colab": {
          "base_uri": "https://localhost:8080/"
        },
        "outputId": "15830e4a-05b4-4136-92ff-e7c21f641d31"
      },
      "execution_count": null,
      "outputs": [
        {
          "output_type": "stream",
          "name": "stdout",
          "text": [
            "12.566370614359172\n"
          ]
        }
      ]
    },
    {
      "cell_type": "code",
      "source": [
        "print(math.tau)"
      ],
      "metadata": {
        "colab": {
          "base_uri": "https://localhost:8080/"
        },
        "id": "cMiimg2BGqe0",
        "outputId": "6c22ae06-4dfa-42aa-b44e-e9f737160781"
      },
      "execution_count": null,
      "outputs": [
        {
          "output_type": "stream",
          "name": "stdout",
          "text": [
            "6.283185307179586\n"
          ]
        }
      ]
    },
    {
      "cell_type": "code",
      "source": [
        "print(math.inf)\n",
        "print(-math.inf)"
      ],
      "metadata": {
        "colab": {
          "base_uri": "https://localhost:8080/"
        },
        "id": "cJMa0weRGqia",
        "outputId": "a3d1f81b-c109-4a56-8e59-6492980f1f26"
      },
      "execution_count": null,
      "outputs": [
        {
          "output_type": "stream",
          "name": "stdout",
          "text": [
            "inf\n",
            "-inf\n"
          ]
        }
      ]
    },
    {
      "cell_type": "code",
      "source": [
        "print(math.nan)"
      ],
      "metadata": {
        "colab": {
          "base_uri": "https://localhost:8080/"
        },
        "id": "PsXYuXfuGqmd",
        "outputId": "369fdd94-91a8-4a44-9d02-b694a1a0f2d5"
      },
      "execution_count": null,
      "outputs": [
        {
          "output_type": "stream",
          "name": "stdout",
          "text": [
            "nan\n"
          ]
        }
      ]
    },
    {
      "cell_type": "code",
      "source": [
        "a=21.38\n",
        "\n",
        "val=math.ceil(a)\n",
        "print(val)\\\n",
        "\n",
        "\n",
        "\n",
        "val=math.floor(a)\n",
        "print(val)"
      ],
      "metadata": {
        "colab": {
          "base_uri": "https://localhost:8080/"
        },
        "id": "fOahks1rGqqd",
        "outputId": "1fc3c421-97b3-4dbb-93af-19bd9362504d"
      },
      "execution_count": null,
      "outputs": [
        {
          "output_type": "stream",
          "name": "stdout",
          "text": [
            "22\n",
            "21\n"
          ]
        }
      ]
    },
    {
      "cell_type": "code",
      "source": [
        "a=6\n",
        "\n",
        "fac=math.factorial(a)\n",
        "print(\"the factorial of a is :\",fac)"
      ],
      "metadata": {
        "colab": {
          "base_uri": "https://localhost:8080/"
        },
        "id": "PuKuO5w1Gqu5",
        "outputId": "8f8457c0-6bbf-49c5-f4d4-bfd33d307f81"
      },
      "execution_count": null,
      "outputs": [
        {
          "output_type": "stream",
          "name": "stdout",
          "text": [
            "the factorial of a is : 720\n"
          ]
        }
      ]
    },
    {
      "cell_type": "code",
      "source": [
        "a=35\n",
        "b=15\n",
        "\n",
        "gdf_val=math.gcd(b,a)\n",
        "print(\"greatest common division factor is :\",gdf_val)\n"
      ],
      "metadata": {
        "colab": {
          "base_uri": "https://localhost:8080/"
        },
        "id": "jidu8-RwGqzL",
        "outputId": "655ee9ad-7ea1-4bc0-a19a-e64d8b54345c"
      },
      "execution_count": null,
      "outputs": [
        {
          "output_type": "stream",
          "name": "stdout",
          "text": [
            "greatest division factor is : 5\n"
          ]
        }
      ]
    },
    {
      "cell_type": "code",
      "source": [],
      "metadata": {
        "id": "T-ihI6-X16mC"
      },
      "execution_count": null,
      "outputs": []
    },
    {
      "cell_type": "code",
      "source": [],
      "metadata": {
        "id": "pftSZKSy16qM"
      },
      "execution_count": null,
      "outputs": []
    },
    {
      "cell_type": "code",
      "source": [],
      "metadata": {
        "id": "E8rPEosh16uk"
      },
      "execution_count": null,
      "outputs": []
    },
    {
      "cell_type": "code",
      "source": [
        "a=-6.9\n",
        "b=10\n",
        "\n",
        "abs_val=abs(a)\n",
        "print(\"the absalute value of a is :\",abs_val)"
      ],
      "metadata": {
        "colab": {
          "base_uri": "https://localhost:8080/"
        },
        "id": "xUW4tk6DGq3T",
        "outputId": "e4b74e6f-44ed-49c5-d9b6-37916abb9928"
      },
      "execution_count": null,
      "outputs": [
        {
          "output_type": "stream",
          "name": "stdout",
          "text": [
            "the absalute value of a is : 6.9\n"
          ]
        }
      ]
    },
    {
      "cell_type": "code",
      "source": [
        "var_int=4\n",
        "var_neg_int=-3\n",
        "var_float=15.44\n",
        "\n",
        "print(math.exp(var_int))\n",
        "\n",
        "print(math.exp(var_neg_int))\n",
        "\n",
        "print(math.exp(var_float))"
      ],
      "metadata": {
        "colab": {
          "base_uri": "https://localhost:8080/"
        },
        "id": "p7ov0ZM-Gq7K",
        "outputId": "dc0bad56-210b-424c-8524-a1b93fb68e86"
      },
      "execution_count": null,
      "outputs": [
        {
          "output_type": "stream",
          "name": "stdout",
          "text": [
            "54.598150033144236\n",
            "0.049787068367863944\n",
            "5075826.871676405\n"
          ]
        }
      ]
    },
    {
      "cell_type": "code",
      "source": [
        "val=pow(2,5)\n",
        "\n",
        "print(\"the power of 2**5 is :\",val)"
      ],
      "metadata": {
        "colab": {
          "base_uri": "https://localhost:8080/"
        },
        "id": "IaQ8P9WCIf1I",
        "outputId": "d0efcda2-fc5a-47d8-936b-ed690a17c2e9"
      },
      "execution_count": null,
      "outputs": [
        {
          "output_type": "stream",
          "name": "stdout",
          "text": [
            "the power of 2**5 is : 32\n"
          ]
        }
      ]
    },
    {
      "cell_type": "code",
      "source": [
        "print(math.log(4,5))"
      ],
      "metadata": {
        "colab": {
          "base_uri": "https://localhost:8080/"
        },
        "id": "7wLMC776If4q",
        "outputId": "52ade858-28ab-4591-b2c9-4d77f485b668"
      },
      "execution_count": null,
      "outputs": [
        {
          "output_type": "stream",
          "name": "stdout",
          "text": [
            "0.8613531161467861\n"
          ]
        }
      ]
    },
    {
      "cell_type": "code",
      "source": [
        "print(math.log2(64))\n",
        "print(math.log10(1000))"
      ],
      "metadata": {
        "colab": {
          "base_uri": "https://localhost:8080/"
        },
        "id": "fp-ctU4HIf9M",
        "outputId": "589741ac-5dcd-4abb-d2f1-fe9fbd9b0b3f"
      },
      "execution_count": null,
      "outputs": [
        {
          "output_type": "stream",
          "name": "stdout",
          "text": [
            "6.0\n",
            "3.0\n"
          ]
        }
      ]
    },
    {
      "cell_type": "code",
      "source": [
        "print(math.sqrt(4))"
      ],
      "metadata": {
        "colab": {
          "base_uri": "https://localhost:8080/"
        },
        "id": "SPZRKbwTIgA6",
        "outputId": "3eac745d-d4e6-4ad3-d42b-cd70e8a95383"
      },
      "execution_count": null,
      "outputs": [
        {
          "output_type": "stream",
          "name": "stdout",
          "text": [
            "2.0\n"
          ]
        }
      ]
    },
    {
      "cell_type": "code",
      "source": [
        "a=math.pi/4\n",
        "\n",
        "print(math.sin(a))\n",
        "\n",
        "print(math.cos(a))\n",
        "\n",
        "print(math.tan(a))"
      ],
      "metadata": {
        "colab": {
          "base_uri": "https://localhost:8080/"
        },
        "id": "dbBPAyR9IgFA",
        "outputId": "9ea47798-1651-4d1e-da30-d6932d4000ae"
      },
      "execution_count": null,
      "outputs": [
        {
          "output_type": "stream",
          "name": "stdout",
          "text": [
            "0.7071067811865475\n",
            "0.7071067811865476\n",
            "0.9999999999999999\n"
          ]
        }
      ]
    },
    {
      "cell_type": "code",
      "source": [
        "print(math.isinf(math.pi))\n",
        "print(math.isinf(math.e))\n",
        "print(math.isinf(float('inf')))"
      ],
      "metadata": {
        "colab": {
          "base_uri": "https://localhost:8080/"
        },
        "id": "usYp0zDpGq_m",
        "outputId": "42bb2ed8-a47d-44cb-f761-00caf9de4b2f"
      },
      "execution_count": null,
      "outputs": [
        {
          "output_type": "stream",
          "name": "stdout",
          "text": [
            "False\n",
            "False\n",
            "True\n"
          ]
        }
      ]
    },
    {
      "cell_type": "code",
      "source": [
        "a=1000.5648\n",
        "\n",
        "print(math.trunc(a))"
      ],
      "metadata": {
        "colab": {
          "base_uri": "https://localhost:8080/"
        },
        "id": "6QSYrzCvKStj",
        "outputId": "f6f9706f-3f8f-4049-ae84-592f5ab98a81"
      },
      "execution_count": null,
      "outputs": [
        {
          "output_type": "stream",
          "name": "stdout",
          "text": [
            "1000\n"
          ]
        }
      ]
    },
    {
      "cell_type": "code",
      "source": [
        "math.exp(2)"
      ],
      "metadata": {
        "colab": {
          "base_uri": "https://localhost:8080/"
        },
        "id": "lgxpq9l2Kt8R",
        "outputId": "1a40b3d7-069a-411a-de6b-7167c2216a8b"
      },
      "execution_count": null,
      "outputs": [
        {
          "output_type": "execute_result",
          "data": {
            "text/plain": [
              "7.38905609893065"
            ]
          },
          "metadata": {},
          "execution_count": 37
        }
      ]
    },
    {
      "cell_type": "markdown",
      "source": [
        "Python operator"
      ],
      "metadata": {
        "id": "2uRbJzbl2Avv"
      }
    },
    {
      "cell_type": "code",
      "source": [
        "x=5\n",
        "x+=3\n",
        "print(x)"
      ],
      "metadata": {
        "colab": {
          "base_uri": "https://localhost:8080/"
        },
        "id": "A_PMg7SC19Es",
        "outputId": "df0dd767-d67e-42c1-d005-d57f5329e158"
      },
      "execution_count": null,
      "outputs": [
        {
          "output_type": "stream",
          "name": "stdout",
          "text": [
            "8\n"
          ]
        }
      ]
    },
    {
      "cell_type": "code",
      "source": [
        "x-=3\n",
        "print(x)"
      ],
      "metadata": {
        "colab": {
          "base_uri": "https://localhost:8080/"
        },
        "id": "EY5SZEGU19KB",
        "outputId": "dc2ef2ec-c7b3-4820-a7d4-a7cfe2396d3d"
      },
      "execution_count": null,
      "outputs": [
        {
          "output_type": "stream",
          "name": "stdout",
          "text": [
            "5\n"
          ]
        }
      ]
    },
    {
      "cell_type": "code",
      "source": [
        "x/=3\n",
        "print(x)"
      ],
      "metadata": {
        "colab": {
          "base_uri": "https://localhost:8080/"
        },
        "id": "5MOnmX-U19PA",
        "outputId": "cbe4501e-5ce7-4c87-a8d3-d2f0a9b2861a"
      },
      "execution_count": null,
      "outputs": [
        {
          "output_type": "stream",
          "name": "stdout",
          "text": [
            "1.6666666666666667\n"
          ]
        }
      ]
    },
    {
      "cell_type": "code",
      "source": [
        "x=15\n",
        "x//=3\n",
        "print(x)"
      ],
      "metadata": {
        "colab": {
          "base_uri": "https://localhost:8080/"
        },
        "id": "_AccmCso19Te",
        "outputId": "9401d9c3-2c8a-44a7-994c-46e7fce36972"
      },
      "execution_count": null,
      "outputs": [
        {
          "output_type": "stream",
          "name": "stdout",
          "text": [
            "5\n"
          ]
        }
      ]
    },
    {
      "cell_type": "code",
      "source": [
        "pow=2**3\n",
        "print(pow)"
      ],
      "metadata": {
        "colab": {
          "base_uri": "https://localhost:8080/"
        },
        "id": "aT1vJmpS22nO",
        "outputId": "15a49649-a2e8-4533-ecc3-dd7745ae87c2"
      },
      "execution_count": null,
      "outputs": [
        {
          "output_type": "stream",
          "name": "stdout",
          "text": [
            "8\n"
          ]
        }
      ]
    },
    {
      "cell_type": "code",
      "source": [],
      "metadata": {
        "id": "0mWzxLX_22qj"
      },
      "execution_count": null,
      "outputs": []
    },
    {
      "cell_type": "code",
      "source": [
        "x=10\n",
        "y=15\n",
        "z=10\n",
        "print(x>y)\n",
        "print(x<y)\n",
        "print(x==z)\n",
        "print(x<=y)\n",
        "print(y>=x)"
      ],
      "metadata": {
        "colab": {
          "base_uri": "https://localhost:8080/"
        },
        "id": "e7iL_44s19Y2",
        "outputId": "072bc8e4-2fa4-40cc-b6e7-393611a65091"
      },
      "execution_count": null,
      "outputs": [
        {
          "output_type": "stream",
          "name": "stdout",
          "text": [
            "False\n",
            "True\n",
            "True\n",
            "True\n",
            "True\n"
          ]
        }
      ]
    },
    {
      "cell_type": "code",
      "source": [
        "x=10\n",
        "y=20\n",
        "\n",
        "print (x>15 or y<15)"
      ],
      "metadata": {
        "colab": {
          "base_uri": "https://localhost:8080/"
        },
        "id": "BZ0aDO2v19dV",
        "outputId": "0dd0ee4e-2d0a-45a6-972a-84dda7521b03"
      },
      "execution_count": null,
      "outputs": [
        {
          "output_type": "stream",
          "name": "stdout",
          "text": [
            "False\n"
          ]
        }
      ]
    },
    {
      "cell_type": "code",
      "source": [
        "print(x is not y)"
      ],
      "metadata": {
        "colab": {
          "base_uri": "https://localhost:8080/"
        },
        "id": "ywZRZIML19hx",
        "outputId": "31e10b26-73ee-45a6-def5-1d7cc94b0b59"
      },
      "execution_count": null,
      "outputs": [
        {
          "output_type": "stream",
          "name": "stdout",
          "text": [
            "True\n"
          ]
        }
      ]
    },
    {
      "cell_type": "code",
      "source": [
        "x=1\n",
        "y=[1,2,3]\n",
        "print(x not in y)"
      ],
      "metadata": {
        "colab": {
          "base_uri": "https://localhost:8080/"
        },
        "id": "FvMe6rru19mG",
        "outputId": "81b81dab-2511-43b5-d4b8-b00b2b07ccbc"
      },
      "execution_count": null,
      "outputs": [
        {
          "output_type": "stream",
          "name": "stdout",
          "text": [
            "False\n"
          ]
        }
      ]
    },
    {
      "cell_type": "code",
      "source": [
        "x=2\n",
        "y=3\n",
        "\n",
        "print(x&y)\n",
        "print(x|y)\n",
        "print(x^y)\n",
        "print(~x)\n",
        "print(x<<1)\n",
        "print(y>>1)\n"
      ],
      "metadata": {
        "colab": {
          "base_uri": "https://localhost:8080/"
        },
        "id": "Ro4s1Uqf19rI",
        "outputId": "3e64e7f2-e95c-43fb-8822-7e048f918415"
      },
      "execution_count": null,
      "outputs": [
        {
          "output_type": "stream",
          "name": "stdout",
          "text": [
            "2\n",
            "3\n",
            "1\n",
            "-3\n",
            "4\n",
            "1\n"
          ]
        }
      ]
    },
    {
      "cell_type": "markdown",
      "source": [
        "List in Python"
      ],
      "metadata": {
        "id": "4ptpWpFYPXrC"
      }
    },
    {
      "cell_type": "code",
      "source": [
        "list=[1,2,3,[4,5],\"hey\",\"john\",8.9]\n",
        "\n"
      ],
      "metadata": {
        "id": "Kb1i0Hv519vO"
      },
      "execution_count": null,
      "outputs": []
    },
    {
      "cell_type": "code",
      "source": [
        "print(list)"
      ],
      "metadata": {
        "id": "IgBnKgZG19zP",
        "colab": {
          "base_uri": "https://localhost:8080/"
        },
        "outputId": "59ba401f-9d57-4f44-e81e-cdcc47cb7dbe"
      },
      "execution_count": null,
      "outputs": [
        {
          "output_type": "stream",
          "name": "stdout",
          "text": [
            "[1, 2, 3, [4, 5], 'hey', 'john', 8.9]\n"
          ]
        }
      ]
    },
    {
      "cell_type": "code",
      "source": [
        "print(list[2])"
      ],
      "metadata": {
        "id": "fZgTYXqe1930",
        "colab": {
          "base_uri": "https://localhost:8080/"
        },
        "outputId": "93f6be26-77c0-42b8-eecb-33f9084700b9"
      },
      "execution_count": null,
      "outputs": [
        {
          "output_type": "stream",
          "name": "stdout",
          "text": [
            "3\n"
          ]
        }
      ]
    },
    {
      "cell_type": "code",
      "source": [
        "print(list[3][0])"
      ],
      "metadata": {
        "id": "LVUCZ8ox198Q",
        "colab": {
          "base_uri": "https://localhost:8080/"
        },
        "outputId": "d96dde27-6a0a-4c0e-896b-b52f71a85101"
      },
      "execution_count": null,
      "outputs": [
        {
          "output_type": "stream",
          "name": "stdout",
          "text": [
            "4\n"
          ]
        }
      ]
    },
    {
      "cell_type": "code",
      "source": [
        "print(len(list))"
      ],
      "metadata": {
        "id": "I2n8qK1j1-Ad",
        "colab": {
          "base_uri": "https://localhost:8080/"
        },
        "outputId": "b7f57833-679f-4450-b8c3-34f72ab0f2eb"
      },
      "execution_count": null,
      "outputs": [
        {
          "output_type": "stream",
          "name": "stdout",
          "text": [
            "7\n"
          ]
        }
      ]
    },
    {
      "cell_type": "code",
      "source": [
        "list3=(1,2,3,4)\n",
        "\n",
        "print(list3)\n"
      ],
      "metadata": {
        "id": "sIEgoubF1-Ed",
        "colab": {
          "base_uri": "https://localhost:8080/"
        },
        "outputId": "37111f29-cbd3-47f4-a14f-dfc8207bbaa5"
      },
      "execution_count": null,
      "outputs": [
        {
          "output_type": "stream",
          "name": "stdout",
          "text": [
            "(1, 2, 3, 4)\n"
          ]
        }
      ]
    },
    {
      "cell_type": "code",
      "source": [
        "list1=[]\n",
        "print(list1)\n",
        "\n",
        "print(type(list1))"
      ],
      "metadata": {
        "id": "y1QS-RJQ1-I_",
        "colab": {
          "base_uri": "https://localhost:8080/"
        },
        "outputId": "7960c5b1-74b6-4c0e-ba6a-938f95f53a7f"
      },
      "execution_count": null,
      "outputs": [
        {
          "output_type": "stream",
          "name": "stdout",
          "text": [
            "[]\n",
            "<class 'list'>\n"
          ]
        }
      ]
    },
    {
      "cell_type": "code",
      "source": [
        "List4=[1,[4,5],6,4.5,[4,5]]\n"
      ],
      "metadata": {
        "id": "RJQnqKRRTAOU"
      },
      "execution_count": null,
      "outputs": []
    },
    {
      "cell_type": "code",
      "source": [
        "print(List4[1][1])"
      ],
      "metadata": {
        "colab": {
          "base_uri": "https://localhost:8080/"
        },
        "id": "3HRPIMEATAR7",
        "outputId": "c3e4b8a9-dd2a-42e8-d10b-393913737c13"
      },
      "execution_count": null,
      "outputs": [
        {
          "output_type": "stream",
          "name": "stdout",
          "text": [
            "5\n"
          ]
        }
      ]
    },
    {
      "cell_type": "code",
      "source": [
        "print(len(List4))"
      ],
      "metadata": {
        "id": "B6japvuXTAWK",
        "colab": {
          "base_uri": "https://localhost:8080/"
        },
        "outputId": "f5414c3d-477d-41cb-a68e-ed2888a2f90e"
      },
      "execution_count": null,
      "outputs": [
        {
          "output_type": "stream",
          "name": "stdout",
          "text": [
            "5\n"
          ]
        }
      ]
    },
    {
      "cell_type": "code",
      "source": [],
      "metadata": {
        "id": "QDD0pDf9TAaf"
      },
      "execution_count": null,
      "outputs": []
    }
  ]
}